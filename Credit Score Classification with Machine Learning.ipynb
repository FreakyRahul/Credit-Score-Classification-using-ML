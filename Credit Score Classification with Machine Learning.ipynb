{
 "cells": [
  {
   "cell_type": "code",
   "execution_count": null,
   "id": "2b932d23",
   "metadata": {},
   "outputs": [],
   "source": [
    "# ID: Unique ID of the record\n",
    "# Customer_ID: Unique ID of the customer\n",
    "# Month: Month of the year\n",
    "# Name: The name of the person\n",
    "# Age: The age of the person\n",
    "# SSN: Social Security Number of the person\n",
    "# Occupation: The occupation of the person\n",
    "# Annual_Income: The Annual Income of the person\n",
    "# Monthly_Inhand_Salary: Monthly in-hand salary of the person\n",
    "# Num_Bank_Accounts: The number of bank accounts of the person\n",
    "# Num_Credit_Card: Number of credit cards the person is having\n",
    "# Interest_Rate: The interest rate on the credit card of the person\n",
    "# Num_of_Loan: The number of loans taken by the person from the bank\n",
    "# Type_of_Loan: The types of loans taken by the person from the bank\n",
    "# Delay_from_due_date: The average number of days delayed by the person from the date of payment\n",
    "# Num_of_Delayed_Payment: Number of payments delayed by the person\n",
    "# Changed_Credit_Card: The percentage change in the credit card limit of the person\n",
    "# Num_Credit_Inquiries: The number of credit card inquiries by the person\n",
    "# Credit_Mix: Classification of Credit Mix of the customer\n",
    "# Outstanding_Debt: The outstanding balance of the person\n",
    "# Credit_Utilization_Ratio: The credit utilization ratio of the credit card of the customer\n",
    "# Credit_History_Age: The age of the credit history of the person\n",
    "# Payment_of_Min_Amount: Yes if the person paid the minimum amount to be paid only, otherwise no.\n",
    "# Total_EMI_per_month: The total EMI per month of the person\n",
    "# Amount_invested_monthly: The monthly amount invested by the person\n",
    "# Payment_Behaviour: The payment behaviour of the person\n",
    "# Monthly_Balance: The monthly balance left in the account of the person\n",
    "# Credit_Score: The credit score of the person"
   ]
  },
  {
   "cell_type": "code",
   "execution_count": null,
   "id": "2dfb8af6",
   "metadata": {},
   "outputs": [],
   "source": [
    "import pandas as pd\n",
    "import numpy as np\n",
    "import matplotlib.pyplot as plt\n",
    "import seaborn as sns"
   ]
  },
  {
   "cell_type": "code",
   "execution_count": null,
   "id": "15bdb049",
   "metadata": {},
   "outputs": [],
   "source": [
    "dataset = pd.read_csv(\"train.csv\")"
   ]
  },
  {
   "cell_type": "code",
   "execution_count": null,
   "id": "3adcc6f5",
   "metadata": {},
   "outputs": [],
   "source": [
    "dataset.head()"
   ]
  },
  {
   "cell_type": "code",
   "execution_count": null,
   "id": "bed13b12",
   "metadata": {},
   "outputs": [],
   "source": [
    "dataset.info()"
   ]
  },
  {
   "cell_type": "code",
   "execution_count": null,
   "id": "f400501a",
   "metadata": {},
   "outputs": [],
   "source": [
    "from summarytools import dfSummary\n",
    "dfSummary(dataset)"
   ]
  },
  {
   "cell_type": "code",
   "execution_count": null,
   "id": "352f90c9",
   "metadata": {},
   "outputs": [],
   "source": [
    "h = dataset[\"Occupation\"].value_counts()"
   ]
  },
  {
   "cell_type": "code",
   "execution_count": null,
   "id": "ed332f2c",
   "metadata": {},
   "outputs": [],
   "source": [
    "d = h.index"
   ]
  },
  {
   "cell_type": "code",
   "execution_count": null,
   "id": "b3aafc70",
   "metadata": {},
   "outputs": [],
   "source": [
    "c = ['red', 'blue', 'green', 'orange','red', 'blue', 'green', 'orange','red', 'blue', 'green', 'orange','red', 'blue', 'green']"
   ]
  },
  {
   "cell_type": "code",
   "execution_count": null,
   "id": "ce442ad6",
   "metadata": {},
   "outputs": [],
   "source": [
    "# fig, ax = plt.subplots(figsize=(6,4))\n",
    "plt.bar(d,h,color=c)\n",
    "plt.xlabel('Categories')\n",
    "plt.ylabel('Count')\n",
    "plt.title('Occupation')\n",
    "plt.xticks(rotation=90);\n",
    "plt.show()"
   ]
  },
  {
   "cell_type": "code",
   "execution_count": null,
   "id": "a8f38a1f",
   "metadata": {},
   "outputs": [],
   "source": [
    "sns.histplot(dataset[\"Payment_Behaviour\"])\n",
    "plt.xticks(rotation=90)"
   ]
  },
  {
   "cell_type": "code",
   "execution_count": null,
   "id": "8aca0c8d",
   "metadata": {},
   "outputs": [],
   "source": [
    "sns.countplot(dataset[\"Credit_Score\"])"
   ]
  },
  {
   "cell_type": "code",
   "execution_count": null,
   "id": "d7d5316e",
   "metadata": {},
   "outputs": [],
   "source": [
    "dataset[\"Credit_Score\"].value_counts()"
   ]
  },
  {
   "cell_type": "code",
   "execution_count": null,
   "id": "651bb574",
   "metadata": {},
   "outputs": [],
   "source": [
    "import plotly.express as px"
   ]
  },
  {
   "cell_type": "code",
   "execution_count": null,
   "id": "b1479798",
   "metadata": {},
   "outputs": [],
   "source": [
    "fig = px.box(dataset,x=\"Credit_Score\",y=\"Occupation\",color=\"Credit_Score\",title=\"Credit Score Based on Occupation\",\n",
    "             color_discrete_map={\"Poor\":\"red\",\n",
    "                                \"Standard\":\"yellow\",\n",
    "                                \"Good\":\"green\"})\n",
    "fig.show()"
   ]
  },
  {
   "cell_type": "code",
   "execution_count": null,
   "id": "1f410631",
   "metadata": {},
   "outputs": [],
   "source": [
    "fig = px.box(dataset,x=\"Credit_Score\",y=\"Annual_Income\",color=\"Credit_Score\",title=\"Credit Score Based on Annual Income\",\n",
    "             color_discrete_map={\"Poor\":\"red\",\n",
    "                                \"Standard\":\"yellow\",\n",
    "                                \"Good\":\"green\"})\n",
    "fig.show()"
   ]
  },
  {
   "cell_type": "code",
   "execution_count": null,
   "id": "4698579a",
   "metadata": {},
   "outputs": [],
   "source": [
    "fig = px.box(dataset,x=\"Credit_Score\",y=\"Monthly_Inhand_Salary\",color=\"Credit_Score\",title=\"Credit Score Based on Monthly Inhand Salary\",\n",
    "             color_discrete_map={\"Poor\":\"red\",\n",
    "                                \"Standard\":\"yellow\",\n",
    "                                \"Good\":\"green\"})\n",
    "fig.show()"
   ]
  },
  {
   "cell_type": "code",
   "execution_count": null,
   "id": "ada015eb",
   "metadata": {},
   "outputs": [],
   "source": [
    "fig = px.box(dataset,x=\"Credit_Score\",y=\"Num_Bank_Accounts\",color=\"Credit_Score\",title=\"Credit Score Based on Number of Bank Accounts\",\n",
    "             color_discrete_map={\"Poor\":\"red\",\n",
    "                                \"Standard\":\"yellow\",\n",
    "                                \"Good\":\"green\"})\n",
    "fig.show()"
   ]
  },
  {
   "cell_type": "code",
   "execution_count": null,
   "id": "22a7abc4",
   "metadata": {},
   "outputs": [],
   "source": [
    "fig = px.box(dataset,x=\"Credit_Score\",y=\"Num_Credit_Card\",color=\"Credit_Score\",title=\"Credit Score Based on Number of Credit Card\",\n",
    "             color_discrete_map={\"Poor\":\"red\",\n",
    "                                \"Standard\":\"yellow\",\n",
    "                                \"Good\":\"green\"})\n",
    "fig.show() # Having 3 – 5 credit cards is good for your credit score"
   ]
  },
  {
   "cell_type": "code",
   "execution_count": null,
   "id": "f45dafac",
   "metadata": {},
   "outputs": [],
   "source": [
    "fig = px.box(dataset,x=\"Credit_Score\",y=\"Interest_Rate\",color=\"Credit_Score\",title=\"Credit Score Based on Interest Rate\",\n",
    "             color_discrete_map={\"Poor\":\"red\",\n",
    "                                \"Standard\":\"yellow\",\n",
    "                                \"Good\":\"green\"})\n",
    "fig.show()"
   ]
  },
  {
   "cell_type": "code",
   "execution_count": null,
   "id": "0be6a589",
   "metadata": {},
   "outputs": [],
   "source": [
    "fig = px.box(dataset,x=\"Credit_Score\",y=\"Num_of_Loan\",color=\"Credit_Score\",title=\"Credit Score Based on Number of Loan\",\n",
    "             color_discrete_map={\"Poor\":\"red\",\n",
    "                                \"Standard\":\"yellow\",\n",
    "                                \"Good\":\"green\"})\n",
    "fig.show()"
   ]
  },
  {
   "cell_type": "code",
   "execution_count": null,
   "id": "1b50f6bd",
   "metadata": {},
   "outputs": [],
   "source": [
    "fig = px.box(dataset,x=\"Credit_Score\",y=\"Delay_from_due_date\",color=\"Credit_Score\",title=\"Credit Score Based on Delay from due date\",\n",
    "             color_discrete_map={\"Poor\":\"red\",\n",
    "                                \"Standard\":\"yellow\",\n",
    "                                \"Good\":\"green\"})\n",
    "fig.show()"
   ]
  },
  {
   "cell_type": "code",
   "execution_count": null,
   "id": "5f7e392a",
   "metadata": {},
   "outputs": [],
   "source": [
    "fig = px.box(dataset,x=\"Credit_Score\",y=\"Num_of_Delayed_Payment\",color=\"Credit_Score\",title=\"Credit Score Based on Number of Delayed Payment\",\n",
    "             color_discrete_map={\"Poor\":\"red\",\n",
    "                                \"Standard\":\"yellow\",\n",
    "                                \"Good\":\"green\"})\n",
    "fig.show()"
   ]
  },
  {
   "cell_type": "code",
   "execution_count": null,
   "id": "100250dc",
   "metadata": {},
   "outputs": [],
   "source": [
    "fig = px.box(dataset,x=\"Credit_Score\",y=\"Changed_Credit_Limit\",color=\"Credit_Score\",title=\"Credit Score Based on Changed Credit Limit\",\n",
    "             color_discrete_map={\"Poor\":\"red\",\n",
    "                                \"Standard\":\"yellow\",\n",
    "                                \"Good\":\"green\"})\n",
    "fig.show()"
   ]
  },
  {
   "cell_type": "code",
   "execution_count": null,
   "id": "9ce5fed3",
   "metadata": {},
   "outputs": [],
   "source": [
    "fig = px.box(dataset,x=\"Credit_Score\",y=\"Outstanding_Debt\",color=\"Credit_Score\",title=\"Credit Score Based on Outstanding Debt\",\n",
    "             color_discrete_map={\"Poor\":\"red\",\n",
    "                                \"Standard\":\"yellow\",\n",
    "                                \"Good\":\"green\"})\n",
    "fig.show()"
   ]
  },
  {
   "cell_type": "code",
   "execution_count": null,
   "id": "ba18eb64",
   "metadata": {},
   "outputs": [],
   "source": [
    "fig = px.box(dataset,x=\"Credit_Score\",y=\"Credit_Utilization_Ratio\",color=\"Credit_Score\",title=\"Credit Score Based on Credit Utilization Ratio\",\n",
    "             color_discrete_map={\"Poor\":\"red\",\n",
    "                                \"Standard\":\"yellow\",\n",
    "                                \"Good\":\"green\"})\n",
    "fig.show()\n",
    "# Credit utilization ratio means your total debt divided by your \n",
    "# total available credit."
   ]
  },
  {
   "cell_type": "code",
   "execution_count": null,
   "id": "7922aa89",
   "metadata": {},
   "outputs": [],
   "source": [
    "fig = px.box(dataset,x=\"Credit_Score\",y=\"Credit_History_Age\",color=\"Credit_Score\",title=\"Credit Score Based on Credit History Age\",\n",
    "             color_discrete_map={\"Poor\":\"red\",\n",
    "                                \"Standard\":\"yellow\",\n",
    "                                \"Good\":\"green\"})\n",
    "fig.show()"
   ]
  },
  {
   "cell_type": "code",
   "execution_count": null,
   "id": "04dbf820",
   "metadata": {},
   "outputs": [],
   "source": [
    "fig = px.box(dataset,x=\"Credit_Score\",y=\"Total_EMI_per_month\",color=\"Credit_Score\",title=\"Credit Score Based on Total EMI per month\",\n",
    "             color_discrete_map={\"Poor\":\"red\",\n",
    "                                \"Standard\":\"yellow\",\n",
    "                                \"Good\":\"green\"})\n",
    "fig.show()"
   ]
  },
  {
   "cell_type": "code",
   "execution_count": null,
   "id": "e3e6d6e3",
   "metadata": {},
   "outputs": [],
   "source": [
    "fig = px.box(dataset,x=\"Credit_Score\",y=\"Amount_invested_monthly\",color=\"Credit_Score\",title=\"Credit Score Based on Amount invested monthly\",\n",
    "             color_discrete_map={\"Poor\":\"red\",\n",
    "                                \"Standard\":\"yellow\",\n",
    "                                \"Good\":\"green\"})\n",
    "fig.show()"
   ]
  },
  {
   "cell_type": "code",
   "execution_count": null,
   "id": "186cbcbb",
   "metadata": {},
   "outputs": [],
   "source": [
    "fig = px.box(dataset,x=\"Credit_Score\",y=\"Age\",color=\"Credit_Score\",title=\"Credit Score Based on Age\",\n",
    "             color_discrete_map={\"Poor\":\"red\",\n",
    "                                \"Standard\":\"yellow\",\n",
    "                                \"Good\":\"green\"})\n",
    "fig.show()"
   ]
  },
  {
   "cell_type": "code",
   "execution_count": null,
   "id": "60add45f",
   "metadata": {},
   "outputs": [],
   "source": [
    "fig = px.box(dataset,x=\"Credit_Score\",y=\"Num_Credit_Inquiries\",color=\"Credit_Score\",title=\"Credit Score Based on Num Credit Inquiries\",\n",
    "             color_discrete_map={\"Poor\":\"red\",\n",
    "                                \"Standard\":\"yellow\",\n",
    "                                \"Good\":\"green\"})\n",
    "fig.show()"
   ]
  },
  {
   "cell_type": "code",
   "execution_count": null,
   "id": "49ded0c4",
   "metadata": {},
   "outputs": [],
   "source": [
    "fig = px.box(dataset,x=\"Credit_Score\",y=\"Monthly_Balance\",color=\"Credit_Score\",title=\"Credit Score Based on Monthly Balance\",\n",
    "             color_discrete_map={\"Poor\":\"red\",\n",
    "                                \"Standard\":\"yellow\",\n",
    "                                \"Good\":\"green\"})\n",
    "fig.show()"
   ]
  },
  {
   "cell_type": "code",
   "execution_count": null,
   "id": "4b977535",
   "metadata": {},
   "outputs": [],
   "source": [
    "dataset['Type_of_Loan'].value_counts()"
   ]
  },
  {
   "cell_type": "code",
   "execution_count": null,
   "id": "53350d76",
   "metadata": {},
   "outputs": [],
   "source": [
    "dataset[dataset[\"Type_of_Loan\"]=='No Data']"
   ]
  },
  {
   "cell_type": "code",
   "execution_count": null,
   "id": "adb6a93d",
   "metadata": {},
   "outputs": [],
   "source": [
    "dataset[\"Credit_Mix\"].value_counts()"
   ]
  },
  {
   "cell_type": "code",
   "execution_count": null,
   "id": "dc0fd4c5",
   "metadata": {},
   "outputs": [],
   "source": [
    "dataset.isna().sum()"
   ]
  },
  {
   "cell_type": "code",
   "execution_count": null,
   "id": "8572d5f2",
   "metadata": {},
   "outputs": [],
   "source": [
    "dataset.select_dtypes('O').info()"
   ]
  },
  {
   "cell_type": "code",
   "execution_count": null,
   "id": "07cd6183",
   "metadata": {},
   "outputs": [],
   "source": [
    "del dataset[\"ID\"]\n",
    "del dataset[\"Customer_ID\"]\n",
    "del dataset[\"Name\"]\n",
    "del dataset[\"SSN\"]\n",
    "del dataset[\"Type_of_Loan\"]\n",
    "del dataset[\"Occupation\"]\n",
    "del dataset[\"Credit_Utilization_Ratio\"]\n",
    "del dataset[\"Total_EMI_per_month\"]"
   ]
  },
  {
   "cell_type": "code",
   "execution_count": null,
   "id": "8a68f218",
   "metadata": {},
   "outputs": [],
   "source": [
    "dataset.info()"
   ]
  },
  {
   "cell_type": "code",
   "execution_count": null,
   "id": "c34bd49f",
   "metadata": {},
   "outputs": [],
   "source": [
    "dataset[\"Payment_of_Min_Amount\"].value_counts()"
   ]
  },
  {
   "cell_type": "code",
   "execution_count": null,
   "id": "291abcd1",
   "metadata": {},
   "outputs": [],
   "source": [
    "dataset[\"Payment_of_Min_Amount\"].replace(\"NM\",\"No\",inplace=True)"
   ]
  },
  {
   "cell_type": "code",
   "execution_count": null,
   "id": "5cb48492",
   "metadata": {},
   "outputs": [],
   "source": [
    "dataset[\"Payment_of_Min_Amount\"].value_counts()"
   ]
  },
  {
   "cell_type": "code",
   "execution_count": null,
   "id": "44942260",
   "metadata": {},
   "outputs": [],
   "source": [
    "dataset['Credit_Mix'].value_counts()"
   ]
  },
  {
   "cell_type": "code",
   "execution_count": null,
   "id": "89eaec98",
   "metadata": {},
   "outputs": [],
   "source": [
    "m = {\n",
    "    \"Bad\":0,\n",
    "    \"Standard\":1,\n",
    "    \"Good\":2,\n",
    "}"
   ]
  },
  {
   "cell_type": "code",
   "execution_count": null,
   "id": "13a200f8",
   "metadata": {},
   "outputs": [],
   "source": [
    "dataset[\"Credit_Mix\"] = dataset[\"Credit_Mix\"].map(m)"
   ]
  },
  {
   "cell_type": "code",
   "execution_count": null,
   "id": "13b5b3aa",
   "metadata": {},
   "outputs": [],
   "source": [
    "dataset['Credit_Mix'].value_counts()"
   ]
  },
  {
   "cell_type": "code",
   "execution_count": null,
   "id": "5ccd866d",
   "metadata": {},
   "outputs": [],
   "source": [
    "dataset[\"Credit_Score\"] = dataset[\"Credit_Score\"].map({\"Good\":\"2\",\"Poor\":\"0\",\"Standard\":\"1\"})"
   ]
  },
  {
   "cell_type": "code",
   "execution_count": null,
   "id": "195344f9",
   "metadata": {},
   "outputs": [],
   "source": [
    "dataset[\"Credit_Score\"].value_counts()"
   ]
  },
  {
   "cell_type": "code",
   "execution_count": null,
   "id": "c8731c70",
   "metadata": {},
   "outputs": [],
   "source": [
    "dataset[\"Credit_Score\"] = dataset[\"Credit_Score\"].astype(int)"
   ]
  },
  {
   "cell_type": "code",
   "execution_count": null,
   "id": "e319cc1e",
   "metadata": {},
   "outputs": [],
   "source": [
    "dataset.info()"
   ]
  },
  {
   "cell_type": "code",
   "execution_count": null,
   "id": "d1efad3a",
   "metadata": {},
   "outputs": [],
   "source": [
    "dataset.head()"
   ]
  },
  {
   "cell_type": "code",
   "execution_count": null,
   "id": "527de6bc",
   "metadata": {},
   "outputs": [],
   "source": [
    "from sklearn.preprocessing import LabelEncoder\n",
    "le = LabelEncoder()\n",
    "dataset[\"Payment_of_Min_Amount\"] = le.fit_transform(dataset[\"Payment_of_Min_Amount\"])"
   ]
  },
  {
   "cell_type": "code",
   "execution_count": null,
   "id": "959d25ab",
   "metadata": {},
   "outputs": [],
   "source": [
    "x = dataset.iloc[:,:-1].values\n",
    "y = dataset.iloc[:,-1].values"
   ]
  },
  {
   "cell_type": "code",
   "execution_count": null,
   "id": "f58c4935",
   "metadata": {},
   "outputs": [],
   "source": [
    "x.shape"
   ]
  },
  {
   "cell_type": "code",
   "execution_count": null,
   "id": "d569ef06",
   "metadata": {},
   "outputs": [],
   "source": [
    "dataset.info()"
   ]
  },
  {
   "cell_type": "code",
   "execution_count": null,
   "id": "3e34c8cf",
   "metadata": {},
   "outputs": [],
   "source": [
    "from sklearn.compose import ColumnTransformer\n",
    "from sklearn.preprocessing import OneHotEncoder\n",
    "ct = ColumnTransformer(transformers=[('encoder',OneHotEncoder(),[17])],remainder='passthrough')\n",
    "x = np.array(ct.fit_transform(x))"
   ]
  },
  {
   "cell_type": "code",
   "execution_count": null,
   "id": "57f75cb8",
   "metadata": {},
   "outputs": [],
   "source": [
    "from sklearn.model_selection import train_test_split\n",
    "X_train,X_test,y_train,y_test = train_test_split(x,y,test_size=0.2,random_state=1)"
   ]
  },
  {
   "cell_type": "code",
   "execution_count": null,
   "id": "ddcd8301",
   "metadata": {},
   "outputs": [],
   "source": [
    "from sklearn.preprocessing import StandardScaler\n",
    "sc = StandardScaler()\n",
    "X_train = sc.fit_transform(X_train)\n",
    "X_test = sc.transform(X_test)"
   ]
  },
  {
   "cell_type": "code",
   "execution_count": null,
   "id": "94ed88d9",
   "metadata": {},
   "outputs": [],
   "source": [
    "from sklearn.ensemble import RandomForestClassifier\n",
    "rf = RandomForestClassifier(n_estimators =30, criterion='entropy', random_state=0 )\n",
    "rf.fit(X_train,y_train)"
   ]
  },
  {
   "cell_type": "code",
   "execution_count": null,
   "id": "212f9260",
   "metadata": {},
   "outputs": [],
   "source": [
    "y_pred = rf.predict(X_test)"
   ]
  },
  {
   "cell_type": "code",
   "execution_count": null,
   "id": "2bb0d559",
   "metadata": {},
   "outputs": [],
   "source": [
    "import pandas as pd\n",
    "\n",
    "# Assuming y_pred and y_test are NumPy arrays containing integer labels\n",
    "d = {1: \"Standard\", 2: \"Good\", 0: \"Bad\"}\n",
    "\n",
    "# Convert NumPy arrays to pandas Series\n",
    "y_pred_series = pd.Series(y_pred)\n",
    "y_test_series = pd.Series(y_test)\n",
    "\n",
    "# Map integer labels to their corresponding categories using the dictionary 'd'\n",
    "y_pred_mapped = y_pred_series.map(d)\n",
    "y_test_mapped = y_test_series.map(d)\n",
    "\n",
    "mapped_labels_df = pd.DataFrame({\n",
    "    'Predicted Labels': y_pred_mapped,\n",
    "    'True Labels': y_test_mapped\n",
    "})"
   ]
  },
  {
   "cell_type": "code",
   "execution_count": null,
   "id": "5995182e",
   "metadata": {},
   "outputs": [],
   "source": [
    "mapped_labels_df.sample(50)"
   ]
  },
  {
   "cell_type": "code",
   "execution_count": null,
   "id": "ff412322",
   "metadata": {},
   "outputs": [],
   "source": [
    "from sklearn.metrics import confusion_matrix , classification_report,accuracy_score\n",
    "cr = classification_report(y_test,y_pred)\n",
    "cn = confusion_matrix(y_test,y_pred)\n",
    "print(cn)\n",
    "print(cr)\n",
    "accuracy_score(y_test,y_pred)"
   ]
  },
  {
   "cell_type": "markdown",
   "id": "fa35d278",
   "metadata": {},
   "source": [
    "## Balance the dataset by undersampling"
   ]
  },
  {
   "cell_type": "code",
   "execution_count": null,
   "id": "3acf000f",
   "metadata": {},
   "outputs": [],
   "source": [
    "majority_class1 = dataset[dataset['Credit_Score'] == 0]\n",
    "majority_class2 = dataset[dataset['Credit_Score'] == 1]\n",
    "minority_class = dataset[dataset['Credit_Score'] == 2]\n",
    "\n",
    "majority_reducedata1 = majority_class1.sample(n = 17828, random_state=42)\n",
    "majority_reducedata2 = majority_class2.sample(n = 17828, random_state=42)\n",
    "\n",
    "new_balance_df = pd.concat([majority_reducedata1,majority_reducedata2, minority_class])\n",
    "new_balance_df = new_balance_df.sample(frac = 1, random_state=42).reset_index(drop=True)"
   ]
  },
  {
   "cell_type": "code",
   "execution_count": null,
   "id": "136951c4",
   "metadata": {},
   "outputs": [],
   "source": [
    "dataset[\"Credit_Score\"].value_counts()"
   ]
  },
  {
   "cell_type": "code",
   "execution_count": null,
   "id": "faa5cece",
   "metadata": {},
   "outputs": [],
   "source": [
    "new_balance_df[\"Credit_Score\"].value_counts()"
   ]
  },
  {
   "cell_type": "code",
   "execution_count": null,
   "id": "5f2b6ece",
   "metadata": {},
   "outputs": [],
   "source": [
    "new_balance_df.head()"
   ]
  },
  {
   "cell_type": "code",
   "execution_count": null,
   "id": "7a801fb1",
   "metadata": {},
   "outputs": [],
   "source": [
    "x1 = new_balance_df.iloc[:,:-1].values\n",
    "y1 = new_balance_df.iloc[:,-1].values"
   ]
  },
  {
   "cell_type": "code",
   "execution_count": null,
   "id": "1f905464",
   "metadata": {},
   "outputs": [],
   "source": [
    "from sklearn.compose import ColumnTransformer\n",
    "from sklearn.preprocessing import OneHotEncoder\n",
    "ct1 = ColumnTransformer(transformers=[('encoder',OneHotEncoder(),[17])],remainder='passthrough')\n",
    "x1 = np.array(ct1.fit_transform(x1))"
   ]
  },
  {
   "cell_type": "code",
   "execution_count": null,
   "id": "58fd9f70",
   "metadata": {},
   "outputs": [],
   "source": [
    "from sklearn.model_selection import train_test_split\n",
    "X_train2,X_test2,y_train2,y_test2 = train_test_split(x1,y1,test_size=0.2,random_state=1)"
   ]
  },
  {
   "cell_type": "code",
   "execution_count": null,
   "id": "fab7a00e",
   "metadata": {},
   "outputs": [],
   "source": [
    "from sklearn.preprocessing import StandardScaler\n",
    "sc1 = StandardScaler()\n",
    "X_train2 = sc1.fit_transform(X_train2)\n",
    "X_test2 = sc1.transform(X_test2)"
   ]
  },
  {
   "cell_type": "code",
   "execution_count": null,
   "id": "5ffc048b",
   "metadata": {},
   "outputs": [],
   "source": [
    "from sklearn.ensemble import RandomForestClassifier\n",
    "rf1 = RandomForestClassifier(n_estimators =30, criterion='entropy', random_state=0 )\n",
    "rf1.fit(X_train2,y_train2)"
   ]
  },
  {
   "cell_type": "code",
   "execution_count": null,
   "id": "44368aae",
   "metadata": {},
   "outputs": [],
   "source": [
    "y_pred2 = rf1.predict(X_test2)"
   ]
  },
  {
   "cell_type": "code",
   "execution_count": null,
   "id": "f1b0fe93",
   "metadata": {},
   "outputs": [],
   "source": [
    "from sklearn.metrics import confusion_matrix , classification_report,accuracy_score\n",
    "cr1 = classification_report(y_test2,y_pred2)\n",
    "cn1 = confusion_matrix(y_test2,y_pred2)\n",
    "print(cn1)\n",
    "print(cr1)\n",
    "accuracy_score(y_test2,y_pred2)"
   ]
  },
  {
   "cell_type": "code",
   "execution_count": null,
   "id": "23191de5",
   "metadata": {},
   "outputs": [],
   "source": [
    "import pandas as pd\n",
    "\n",
    "# Assuming y_pred and y_test are NumPy arrays containing integer labels\n",
    "d2 = {1: \"Standard\", 2: \"Good\", 0: \"Bad\"}\n",
    "\n",
    "# Convert NumPy arrays to pandas Series\n",
    "y_pred_series2 = pd.Series(y_pred2)\n",
    "y_test_series2 = pd.Series(y_test2)\n",
    "\n",
    "# Map integer labels to their corresponding categories using the dictionary 'd'\n",
    "y_pred_mapped2 = y_pred_series2.map(d2)\n",
    "y_test_mapped2 = y_test_series2.map(d2)\n",
    "\n",
    "mapped_labels_df2 = pd.DataFrame({\n",
    "    'Predicted Labels': y_pred_mapped2,\n",
    "    'True Labels': y_test_mapped2\n",
    "})"
   ]
  },
  {
   "cell_type": "code",
   "execution_count": null,
   "id": "df648fab",
   "metadata": {},
   "outputs": [],
   "source": [
    "mapped_labels_df2.sample(30)"
   ]
  },
  {
   "cell_type": "code",
   "execution_count": null,
   "id": "9f679fdd",
   "metadata": {},
   "outputs": [],
   "source": []
  }
 ],
 "metadata": {
  "kernelspec": {
   "display_name": "Python 3 (ipykernel)",
   "language": "python",
   "name": "python3"
  },
  "language_info": {
   "codemirror_mode": {
    "name": "ipython",
    "version": 3
   },
   "file_extension": ".py",
   "mimetype": "text/x-python",
   "name": "python",
   "nbconvert_exporter": "python",
   "pygments_lexer": "ipython3",
   "version": "3.9.18"
  }
 },
 "nbformat": 4,
 "nbformat_minor": 5
}
